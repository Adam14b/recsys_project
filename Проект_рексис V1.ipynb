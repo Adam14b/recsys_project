{
  "cells": [
    {
      "cell_type": "code",
      "execution_count": 1,
      "metadata": {
        "colab": {
          "base_uri": "https://localhost:8080/"
        },
        "id": "YbSmbD4frAtR",
        "outputId": "e97c7f59-4180-492b-81ea-6bfdfe55a759"
      },
      "outputs": [
        {
          "name": "stdout",
          "output_type": "stream",
          "text": [
            "Path to dataset files: /kaggle/input/the-movies-dataset\n"
          ]
        }
      ],
      "source": [
        "import kagglehub\n",
        "\n",
        "# Download latest version\n",
        "path = kagglehub.dataset_download(\"rounakbanik/the-movies-dataset\")\n",
        "\n",
        "print(\"Path to dataset files:\", path)"
      ]
    },
    {
      "cell_type": "code",
      "execution_count": 2,
      "metadata": {
        "id": "vbfkGzRIrGTv"
      },
      "outputs": [],
      "source": [
        "!cp -r /kaggle/input/the-movies-dataset ./dataset"
      ]
    },
    {
      "cell_type": "markdown",
      "metadata": {
        "id": "JQw17WQq2lJR"
      },
      "source": [
        "# БЛОК 1: Установка библиотек и настройка директории"
      ]
    },
    {
      "cell_type": "code",
      "execution_count": 2,
      "metadata": {},
      "outputs": [
        {
          "name": "stdout",
          "output_type": "stream",
          "text": [
            "Collecting seaborn\n",
            "  Using cached seaborn-0.13.2-py3-none-any.whl.metadata (5.4 kB)\n",
            "Requirement already satisfied: numpy!=1.24.0,>=1.20 in c:\\users\\bova\\appdata\\local\\programs\\python\\python312\\lib\\site-packages (from seaborn) (1.26.4)\n",
            "Requirement already satisfied: pandas>=1.2 in c:\\users\\bova\\appdata\\local\\programs\\python\\python312\\lib\\site-packages (from seaborn) (1.5.3)\n",
            "Requirement already satisfied: matplotlib!=3.6.1,>=3.4 in c:\\users\\bova\\appdata\\local\\programs\\python\\python312\\lib\\site-packages (from seaborn) (3.10.1)\n",
            "Requirement already satisfied: contourpy>=1.0.1 in c:\\users\\bova\\appdata\\local\\programs\\python\\python312\\lib\\site-packages (from matplotlib!=3.6.1,>=3.4->seaborn) (1.3.1)\n",
            "Requirement already satisfied: cycler>=0.10 in c:\\users\\bova\\appdata\\local\\programs\\python\\python312\\lib\\site-packages (from matplotlib!=3.6.1,>=3.4->seaborn) (0.12.1)\n",
            "Requirement already satisfied: fonttools>=4.22.0 in c:\\users\\bova\\appdata\\local\\programs\\python\\python312\\lib\\site-packages (from matplotlib!=3.6.1,>=3.4->seaborn) (4.57.0)\n",
            "Requirement already satisfied: kiwisolver>=1.3.1 in c:\\users\\bova\\appdata\\local\\programs\\python\\python312\\lib\\site-packages (from matplotlib!=3.6.1,>=3.4->seaborn) (1.4.8)\n",
            "Requirement already satisfied: packaging>=20.0 in c:\\users\\bova\\appdata\\local\\programs\\python\\python312\\lib\\site-packages (from matplotlib!=3.6.1,>=3.4->seaborn) (24.2)\n",
            "Requirement already satisfied: pillow>=8 in c:\\users\\bova\\appdata\\local\\programs\\python\\python312\\lib\\site-packages (from matplotlib!=3.6.1,>=3.4->seaborn) (11.1.0)\n",
            "Requirement already satisfied: pyparsing>=2.3.1 in c:\\users\\bova\\appdata\\local\\programs\\python\\python312\\lib\\site-packages (from matplotlib!=3.6.1,>=3.4->seaborn) (3.2.3)\n",
            "Requirement already satisfied: python-dateutil>=2.7 in c:\\users\\bova\\appdata\\local\\programs\\python\\python312\\lib\\site-packages (from matplotlib!=3.6.1,>=3.4->seaborn) (2.9.0.post0)\n",
            "Requirement already satisfied: pytz>=2020.1 in c:\\users\\bova\\appdata\\local\\programs\\python\\python312\\lib\\site-packages (from pandas>=1.2->seaborn) (2025.2)\n",
            "Requirement already satisfied: six>=1.5 in c:\\users\\bova\\appdata\\local\\programs\\python\\python312\\lib\\site-packages (from python-dateutil>=2.7->matplotlib!=3.6.1,>=3.4->seaborn) (1.17.0)\n",
            "Using cached seaborn-0.13.2-py3-none-any.whl (294 kB)\n",
            "Installing collected packages: seaborn\n",
            "Successfully installed seaborn-0.13.2\n",
            "Note: you may need to restart the kernel to use updated packages.\n"
          ]
        },
        {
          "name": "stderr",
          "output_type": "stream",
          "text": [
            "WARNING: Retrying (Retry(total=4, connect=None, read=None, redirect=None, status=None)) after connection broken by 'NewConnectionError('<pip._vendor.urllib3.connection.HTTPSConnection object at 0x0000017CAA0049E0>: Failed to establish a new connection: [Errno 11001] getaddrinfo failed')': /simple/seaborn/\n",
            "WARNING: Retrying (Retry(total=3, connect=None, read=None, redirect=None, status=None)) after connection broken by 'NewConnectionError('<pip._vendor.urllib3.connection.HTTPSConnection object at 0x0000017CAA007BC0>: Failed to establish a new connection: [Errno 11001] getaddrinfo failed')': /simple/seaborn/\n",
            "WARNING: Retrying (Retry(total=2, connect=None, read=None, redirect=None, status=None)) after connection broken by 'NewConnectionError('<pip._vendor.urllib3.connection.HTTPSConnection object at 0x0000017CAA16DA60>: Failed to establish a new connection: [Errno 11001] getaddrinfo failed')': /simple/seaborn/\n",
            "WARNING: Retrying (Retry(total=1, connect=None, read=None, redirect=None, status=None)) after connection broken by 'NewConnectionError('<pip._vendor.urllib3.connection.HTTPSConnection object at 0x0000017CAA16DAC0>: Failed to establish a new connection: [Errno 11001] getaddrinfo failed')': /simple/seaborn/\n",
            "WARNING: Retrying (Retry(total=0, connect=None, read=None, redirect=None, status=None)) after connection broken by 'NewConnectionError('<pip._vendor.urllib3.connection.HTTPSConnection object at 0x0000017CAA16DCD0>: Failed to establish a new connection: [Errno 11001] getaddrinfo failed')': /simple/seaborn/\n"
          ]
        }
      ],
      "source": [
        "pip install seaborn"
      ]
    },
    {
      "cell_type": "code",
      "execution_count": 3,
      "metadata": {
        "colab": {
          "base_uri": "https://localhost:8080/",
          "height": 1000
        },
        "id": "bMEHatOR0_jR",
        "outputId": "87fdc3cc-4051-42e2-e306-b511e2208841"
      },
      "outputs": [],
      "source": [
        "import pandas as pd\n",
        "import numpy as np\n",
        "import ast\n",
        "from sklearn.feature_extraction.text import TfidfVectorizer\n",
        "from sklearn.metrics.pairwise import cosine_similarity\n",
        "from surprise import Reader, Dataset, SVD\n",
        "from surprise.model_selection import cross_validate\n",
        "import pickle\n",
        "import os\n",
        "from datetime import datetime, timedelta\n",
        "import matplotlib.pyplot as plt\n",
        "import seaborn as sns\n",
        "\n",
        "OUTPUT_DIR = 'streamlit_data'\n",
        "os.makedirs(OUTPUT_DIR, exist_ok=True)\n",
        "DRIVE_PATH = 'dataset/'"
      ]
    },
    {
      "cell_type": "markdown",
      "metadata": {
        "id": "zV2ql6iY2juA"
      },
      "source": [
        "# БЛОК 2: Загрузка данных"
      ]
    },
    {
      "cell_type": "code",
      "execution_count": 4,
      "metadata": {
        "id": "MqyTfds00_gr"
      },
      "outputs": [],
      "source": [
        "movies_metadata_df = pd.read_csv(DRIVE_PATH + 'movies_metadata.csv', low_memory=False)\n",
        "keywords_df = pd.read_csv(DRIVE_PATH + 'keywords.csv')\n",
        "credits_df = pd.read_csv(DRIVE_PATH + 'credits.csv')\n",
        "ratings_small_df = pd.read_csv(DRIVE_PATH + 'ratings_small.csv')\n",
        "links_small_df = pd.read_csv(DRIVE_PATH + 'links_small.csv')"
      ]
    },
    {
      "cell_type": "markdown",
      "metadata": {
        "id": "qawE3Uyf2iz1"
      },
      "source": [
        "# БЛОК 3: Предобработка movies_metadata_df"
      ]
    },
    {
      "cell_type": "code",
      "execution_count": 5,
      "metadata": {
        "id": "YVFlHBOH1eyZ"
      },
      "outputs": [],
      "source": [
        "def safe_literal_eval(val):\n",
        "    if pd.isna(val) or not isinstance(val, str):\n",
        "        return []\n",
        "    try:\n",
        "        return ast.literal_eval(val)\n",
        "    except (ValueError, SyntaxError, TypeError):\n",
        "        return []\n",
        "\n",
        "movies_metadata_df['id'] = pd.to_numeric(movies_metadata_df['id'], errors='coerce')\n",
        "movies_metadata_df.dropna(subset=['id'], inplace=True)\n",
        "movies_metadata_df['id'] = movies_metadata_df['id'].astype(int)\n",
        "movies_metadata_df.rename(columns={'id': 'tmdb_id'}, inplace=True)\n",
        "\n",
        "movies_metadata_df['genres_list'] = movies_metadata_df['genres'].apply(safe_literal_eval)\n",
        "movies_metadata_df['genres'] = movies_metadata_df['genres_list'].apply(lambda x: [i['name'] for i in x] if isinstance(x, list) else [])\n",
        "\n",
        "for col in ['budget', 'revenue', 'runtime', 'popularity', 'vote_average', 'vote_count']:\n",
        "    movies_metadata_df[col] = pd.to_numeric(movies_metadata_df[col], errors='coerce').fillna(0)\n",
        "\n",
        "movies_metadata_df['release_date'] = pd.to_datetime(movies_metadata_df['release_date'], errors='coerce')\n",
        "\n",
        "movies_metadata_df = movies_metadata_df[['tmdb_id', 'title', 'overview', 'genres', 'release_date',\n",
        "                                         'popularity', 'vote_average', 'vote_count', 'runtime',\n",
        "                                         'budget', 'revenue', 'poster_path']]\n",
        "movies_metadata_df['overview'] = movies_metadata_df['overview'].fillna('')"
      ]
    },
    {
      "cell_type": "markdown",
      "metadata": {
        "id": "nBx9GbiI2h33"
      },
      "source": [
        "# БЛОК 4: Предобработка keywords_df"
      ]
    },
    {
      "cell_type": "code",
      "execution_count": 6,
      "metadata": {
        "id": "RAg3SGQY0_dz"
      },
      "outputs": [],
      "source": [
        "keywords_df['id'] = pd.to_numeric(keywords_df['id'], errors='coerce')\n",
        "keywords_df.dropna(subset=['id'], inplace=True)\n",
        "keywords_df['id'] = keywords_df['id'].astype(int)\n",
        "keywords_df.rename(columns={'id': 'tmdb_id'}, inplace=True)\n",
        "keywords_df['keywords_list'] = keywords_df['keywords'].apply(safe_literal_eval)\n",
        "keywords_df['keywords'] = keywords_df['keywords_list'].apply(lambda x: [i['name'] for i in x] if isinstance(x, list) else [])\n",
        "keywords_df = keywords_df[['tmdb_id', 'keywords']]"
      ]
    },
    {
      "cell_type": "markdown",
      "metadata": {
        "id": "oWM2tCwX2hBU"
      },
      "source": [
        "# БЛОК 5: Предобработка credits_df\n",
        "\n"
      ]
    },
    {
      "cell_type": "code",
      "execution_count": 7,
      "metadata": {
        "id": "Zc7Nwfi607Wu"
      },
      "outputs": [],
      "source": [
        "credits_df['id'] = pd.to_numeric(credits_df['id'], errors='coerce')\n",
        "credits_df.dropna(subset=['id'], inplace=True)\n",
        "credits_df['id'] = credits_df['id'].astype(int)\n",
        "credits_df.rename(columns={'id': 'tmdb_id'}, inplace=True)\n",
        "\n",
        "credits_df['cast_list'] = credits_df['cast'].apply(safe_literal_eval)\n",
        "credits_df['crew_list'] = credits_df['crew'].apply(safe_literal_eval)\n",
        "\n",
        "def get_director(crew_list):\n",
        "    for member in crew_list:\n",
        "        if member.get('job') == 'Director':\n",
        "            return member.get('name', '')\n",
        "    return ''\n",
        "\n",
        "def get_top_n_cast(cast_list, n=5):\n",
        "    return [member.get('name', '') for member in cast_list[:n]]\n",
        "\n",
        "credits_df['director'] = credits_df['crew_list'].apply(get_director)\n",
        "credits_df['cast'] = credits_df['cast_list'].apply(get_top_n_cast)\n",
        "credits_df = credits_df[['tmdb_id', 'cast', 'director']]"
      ]
    },
    {
      "cell_type": "markdown",
      "metadata": {
        "id": "NALfYg-s2e9r"
      },
      "source": [
        "# БЛОК 6: Предобработка links_small_df\n",
        "\n"
      ]
    },
    {
      "cell_type": "code",
      "execution_count": 8,
      "metadata": {
        "id": "Go8irtMI13He"
      },
      "outputs": [],
      "source": [
        "links_small_df['tmdbId'] = pd.to_numeric(links_small_df['tmdbId'], errors='coerce')\n",
        "links_small_df.dropna(subset=['tmdbId'], inplace=True)\n",
        "links_small_df['tmdbId'] = links_small_df['tmdbId'].astype('Int64')\n",
        "links_small_df.rename(columns={'tmdbId': 'tmdb_id', 'movieId': 'movieId_ml'}, inplace=True)\n",
        "links_small_df = links_small_df[['movieId_ml', 'tmdb_id']]"
      ]
    },
    {
      "cell_type": "markdown",
      "metadata": {
        "id": "a6FjkeQP2dw8"
      },
      "source": [
        "# БЛОК 7: Предобработка ratings_small_df"
      ]
    },
    {
      "cell_type": "code",
      "execution_count": 9,
      "metadata": {
        "id": "zpcvXRd913Ee"
      },
      "outputs": [],
      "source": [
        "ratings_small_df.rename(columns={'movieId': 'movieId_ml'}, inplace=True)\n",
        "ratings_small_df['movieId_ml'] = ratings_small_df['movieId_ml'].astype('Int64')\n",
        "ratings_small_df['userId'] = ratings_small_df['userId'].astype('Int64')\n",
        "ratings_small_df = ratings_small_df[['userId', 'movieId_ml', 'rating', 'timestamp']]"
      ]
    },
    {
      "cell_type": "markdown",
      "metadata": {
        "id": "6gvVCjqm2cqW"
      },
      "source": [
        "# БЛОК 8: Объединение всех датафреймов\n",
        "\n"
      ]
    },
    {
      "cell_type": "code",
      "execution_count": 10,
      "metadata": {
        "id": "7Q_YUeng15W0"
      },
      "outputs": [],
      "source": [
        "movies_df = movies_metadata_df.merge(keywords_df, on='tmdb_id', how='left')\n",
        "movies_df = movies_df.merge(credits_df, on='tmdb_id', how='left')\n",
        "\n",
        "for col in ['keywords', 'cast', 'genres']:\n",
        "    movies_df[col] = movies_df[col].apply(lambda x: x if isinstance(x, list) else [])\n",
        "movies_df['director'] = movies_df['director'].fillna('')\n",
        "movies_df['overview'] = movies_df['overview'].fillna('')\n",
        "\n",
        "movies_df = movies_df.merge(links_small_df, on='tmdb_id', how='left')\n",
        "movies_df.drop_duplicates(subset=['tmdb_id'], inplace=True)\n",
        "movies_df.sort_values(['popularity', 'vote_count'], ascending=[False, False], inplace=True)\n",
        "movies_df.drop_duplicates(subset=['title'], keep='first', inplace=True)\n",
        "movies_df.reset_index(drop=True, inplace=True)\n",
        "\n",
        "valid_movie_ids_ml = movies_df['movieId_ml'].dropna().unique()\n",
        "ratings_df_filtered = ratings_small_df[ratings_small_df['movieId_ml'].isin(valid_movie_ids_ml)].copy()"
      ]
    },
    {
      "cell_type": "markdown",
      "metadata": {
        "id": "f8x1bETy26iZ"
      },
      "source": [
        "# Визуализация"
      ]
    },
    {
      "cell_type": "markdown",
      "metadata": {
        "id": "AY8ssFRI28FH"
      },
      "source": [
        "## Визуализация 1: Распределение рейтингов"
      ]
    },
    {
      "cell_type": "code",
      "execution_count": 11,
      "metadata": {
        "id": "gO8yEUZv2-HL"
      },
      "outputs": [
        {
          "data": {
            "image/png": "[encoded data removed]",
            "text/plain": [
              "<Figure size 1000x600 with 1 Axes>"
            ]
          },
          "metadata": {},
          "output_type": "display_data"
        }
      ],
      "source": [
        "plt.figure(figsize=(10, 6))\n",
        "sns.histplot(ratings_df_filtered['rating'], bins=10, kde=True)\n",
        "plt.title('Распределение рейтингов фильмов')\n",
        "plt.xlabel('Рейтинг')\n",
        "plt.ylabel('Количество')\n",
        "plt.grid(axis='y', linestyle='--')\n",
        "plt.savefig(os.path.join(OUTPUT_DIR, 'rating_distribution.png'))\n",
        "plt.show()"
      ]
    },
    {
      "cell_type": "markdown",
      "metadata": {
        "id": "_tHP0dfV2-RR"
      },
      "source": [
        "## Визуализация 2: Распределение популярности фильмов"
      ]
    },
    {
      "cell_type": "code",
      "execution_count": 12,
      "metadata": {
        "id": "RnZMUjAV2-fm"
      },
      "outputs": [
        {
          "data": {
            "image/png": "[encoded data removed]",
            "text/plain": [
              "<Figure size 1000x600 with 1 Axes>"
            ]
          },
          "metadata": {},
          "output_type": "display_data"
        }
      ],
      "source": [
        "plt.figure(figsize=(10, 6))\n",
        "sns.histplot(movies_df['popularity'], bins=50, kde=True)\n",
        "plt.title('Распределение популярности фильмов')\n",
        "plt.xlabel('Популярность')\n",
        "plt.ylabel('Количество фильмов')\n",
        "plt.grid(axis='y', linestyle='--')\n",
        "plt.xlim(0, movies_df['popularity'].quantile(0.99)) # Обрезаем выбросы для лучшей визуализации\n",
        "plt.savefig(os.path.join(OUTPUT_DIR, 'popularity_distribution.png'))\n",
        "plt.show()"
      ]
    },
    {
      "cell_type": "markdown",
      "metadata": {
        "id": "rSawDO6f2-qM"
      },
      "source": [
        "## Визуализация 3: Распределение количества голосов"
      ]
    },
    {
      "cell_type": "code",
      "execution_count": 13,
      "metadata": {
        "id": "V0c5dFFu2_DB"
      },
      "outputs": [
        {
          "data": {
            "image/png": "[encoded data removed]",
            "text/plain": [
              "<Figure size 1000x600 with 1 Axes>"
            ]
          },
          "metadata": {},
          "output_type": "display_data"
        }
      ],
      "source": [
        "plt.figure(figsize=(10, 6))\n",
        "sns.histplot(movies_df['vote_count'], bins=50, kde=True)\n",
        "plt.title('Распределение количества голосов фильмов')\n",
        "plt.xlabel('Количество голосов')\n",
        "plt.ylabel('Количество фильмов')\n",
        "plt.grid(axis='y', linestyle='--')\n",
        "plt.xlim(0, movies_df['vote_count'].quantile(0.99)) # Обрезаем выбросы\n",
        "plt.savefig(os.path.join(OUTPUT_DIR, 'vote_count_distribution.png'))\n",
        "plt.show()"
      ]
    },
    {
      "cell_type": "markdown",
      "metadata": {
        "id": "wEH-yL4l3FJ1"
      },
      "source": [
        "## Визуализация 4: Топ-10 наиболее часто встречающихся жанров"
      ]
    },
    {
      "cell_type": "code",
      "execution_count": 14,
      "metadata": {
        "id": "Nb8YGcij3GmB"
      },
      "outputs": [
        {
          "name": "stderr",
          "output_type": "stream",
          "text": [
            "C:\\Users\\Bova\\AppData\\Local\\Temp\\ipykernel_23928\\2891568729.py:6: FutureWarning: \n",
            "\n",
            "Passing `palette` without assigning `hue` is deprecated and will be removed in v0.14.0. Assign the `y` variable to `hue` and set `legend=False` for the same effect.\n",
            "\n",
            "  sns.barplot(x=top_genres.values, y=top_genres.index, palette='viridis')\n"
          ]
        },
        {
          "data": {
            "image/png": "[encoded data removed]",
            "text/plain": [
              "<Figure size 1200x700 with 1 Axes>"
            ]
          },
          "metadata": {},
          "output_type": "display_data"
        }
      ],
      "source": [
        "all_genres = [genre for sublist in movies_df['genres'] for genre in sublist]\n",
        "genres_series = pd.Series(all_genres)\n",
        "top_genres = genres_series.value_counts().head(10)\n",
        "\n",
        "plt.figure(figsize=(12, 7))\n",
        "sns.barplot(x=top_genres.values, y=top_genres.index, palette='viridis')\n",
        "plt.title('Топ-10 наиболее популярных жанров')\n",
        "plt.xlabel('Количество фильмов')\n",
        "plt.ylabel('Жанр')\n",
        "plt.grid(axis='x', linestyle='--')\n",
        "plt.savefig(os.path.join(OUTPUT_DIR, 'top_genres.png'))\n",
        "plt.show()"
      ]
    },
    {
      "cell_type": "markdown",
      "metadata": {
        "id": "aEpIi5EV2a7H"
      },
      "source": [
        "# БЛОК 9: Content-Based Filtering (CBF) - Feature Engineering и TF-IDF"
      ]
    },
    {
      "cell_type": "code",
      "execution_count": 15,
      "metadata": {
        "id": "ubnqhTR316jj"
      },
      "outputs": [
        {
          "name": "stdout",
          "output_type": "stream",
          "text": [
            "Пример Content-Based рекомендаций для 'The Dark Knight Rises':\n",
            "                                               title  tmdb_id\n",
            "0                                    The Dark Knight      155\n",
            "1                                      Batman Begins      272\n",
            "2  Batman Unmasked: The Psychology of the Dark Kn...    29751\n",
            "3                                       The Prestige     1124\n",
            "4                                     Batman Returns      364\n"
          ]
        }
      ],
      "source": [
        "movies_cb_df = movies_df.copy()\n",
        "\n",
        "movies_cb_df['genres_str'] = movies_cb_df['genres'].apply(lambda x: ' '.join(x) if isinstance(x, list) else '')\n",
        "movies_cb_df['keywords_str'] = movies_cb_df['keywords'].apply(lambda x: ' '.join(x) if isinstance(x, list) else '')\n",
        "movies_cb_df['cast_str'] = movies_cb_df['cast'].apply(lambda x: ' '.join(member.replace(\" \", \"\") for member in x) if isinstance(x, list) else '')\n",
        "movies_cb_df['director_str'] = movies_cb_df['director'].apply(lambda x: x.replace(\" \", \"\") if isinstance(x, str) else '')\n",
        "\n",
        "movies_cb_df['soup'] = movies_cb_df['overview'] + ' ' + \\\n",
        "                       movies_cb_df['genres_str'] + ' ' + \\\n",
        "                       movies_cb_df['keywords_str'] + ' ' + \\\n",
        "                       (movies_cb_df['cast_str'] + ' ') * 3 + \\\n",
        "                       (movies_cb_df['director_str'] + ' ') * 3\n",
        "\n",
        "movies_cb_df['soup'] = movies_cb_df['soup'].fillna('')\n",
        "\n",
        "tfidf = TfidfVectorizer(stop_words='english', min_df=3)\n",
        "tfidf_matrix = tfidf.fit_transform(movies_cb_df['soup'])\n",
        "\n",
        "cosine_sim_content = cosine_similarity(tfidf_matrix, tfidf_matrix)\n",
        "\n",
        "cb_indices = pd.Series(movies_cb_df.index, index=movies_cb_df['title']).drop_duplicates()\n",
        "\n",
        "def get_content_recommendations_demo(title, cosine_sim=cosine_sim_content, movies_data=movies_cb_df, indices_map=cb_indices, top_n=10):\n",
        "    idx = indices_map[title]\n",
        "    sim_scores = list(enumerate(cosine_sim[idx]))\n",
        "    sim_scores = sorted(sim_scores, key=lambda x: x[1], reverse=True)\n",
        "    sim_scores = sim_scores[1:top_n+1]\n",
        "    movie_indices = [i[0] for i in sim_scores]\n",
        "\n",
        "    recommended_cb_info = movies_data.iloc[movie_indices][['title', 'tmdb_id']].copy()\n",
        "    full_recommendations = pd.merge(recommended_cb_info,\n",
        "                                    movies_df[['tmdb_id', 'poster_path', 'overview', 'genres']],\n",
        "                                    on='tmdb_id', how='left').drop_duplicates(subset=['tmdb_id'])\n",
        "    ordered_tmdb_ids = recommended_cb_info[recommended_cb_info['tmdb_id'].isin(full_recommendations['tmdb_id'])]['tmdb_id']\n",
        "    full_recommendations = full_recommendations.set_index('tmdb_id').loc[ordered_tmdb_ids].reset_index()\n",
        "\n",
        "    return full_recommendations[['title', 'tmdb_id', 'poster_path', 'overview', 'genres']]\n",
        "\n",
        "# Пример использования (для демонстрации)\n",
        "example_title_cb = \"The Dark Knight Rises\"\n",
        "cbf_recs_df = get_content_recommendations_demo(example_title_cb)\n",
        "print(f\"Пример Content-Based рекомендаций для '{example_title_cb}':\")\n",
        "print(cbf_recs_df[['title', 'tmdb_id']].head(5))"
      ]
    },
    {
      "cell_type": "markdown",
      "metadata": {
        "id": "yVCXgIN72Zzs"
      },
      "source": [
        "# БЛОК 10: Collaborative Filtering (CF) - Surprise SVD - Обучение\n",
        "\n"
      ]
    },
    {
      "cell_type": "code",
      "execution_count": 16,
      "metadata": {
        "id": "92TnkmKD17jC"
      },
      "outputs": [
        {
          "data": {
            "text/plain": [
              "<surprise.prediction_algorithms.matrix_factorization.SVD at 0x156187e53a0>"
            ]
          },
          "execution_count": 16,
          "metadata": {},
          "output_type": "execute_result"
        }
      ],
      "source": [
        "reader = Reader(rating_scale=(0.5, 5.0))\n",
        "data_surprise = Dataset.load_from_df(ratings_df_filtered[['userId', 'movieId_ml', 'rating']], reader)\n",
        "\n",
        "trainset = data_surprise.build_full_trainset()\n",
        "\n",
        "algo_svd = SVD(n_factors=100, n_epochs=30, lr_all=0.005, reg_all=0.04, random_state=42)\n",
        "algo_svd.fit(trainset)"
      ]
    },
    {
      "cell_type": "markdown",
      "metadata": {
        "id": "xXA-vRQI2YBz"
      },
      "source": [
        "# БЛОК 11.1: Collaborative Filtering (CF) - Surprise SVD - Оценка"
      ]
    },
    {
      "cell_type": "code",
      "execution_count": 17,
      "metadata": {
        "id": "9p8vb41D18ix"
      },
      "outputs": [
        {
          "name": "stdout",
          "output_type": "stream",
          "text": [
            "Evaluating RMSE, MAE of algorithm SVD on 3 split(s).\n",
            "\n",
            "                  Fold 1  Fold 2  Fold 3  Mean    Std     \n",
            "RMSE (testset)    0.8985  0.8924  0.8919  0.8943  0.0030  \n",
            "MAE (testset)     0.6918  0.6858  0.6868  0.6881  0.0027  \n",
            "Fit time          0.57    0.54    0.49    0.53    0.03    \n",
            "Test time         0.16    0.13    0.12    0.14    0.02    \n",
            "Средний RMSE по кросс-валидации: 0.8943\n",
            "Средний MAE по кросс-валидации: 0.6881\n"
          ]
        }
      ],
      "source": [
        "cv_results = cross_validate(algo_svd, data_surprise, measures=['RMSE', 'MAE'], cv=3, verbose=True, n_jobs=-1)\n",
        "\n",
        "mean_rmse = cv_results['test_rmse'].mean()\n",
        "mean_mae = cv_results['test_mae'].mean()\n",
        "svd_evaluation_metrics = {'rmse': mean_rmse, 'mae': mean_mae}\n",
        "\n",
        "print(f\"Средний RMSE по кросс-валидации: {mean_rmse:.4f}\")\n",
        "print(f\"Средний MAE по кросс-валидации: {mean_mae:.4f}\")"
      ]
    },
    {
      "cell_type": "markdown",
      "metadata": {
        "id": "dATUwOTp3Vko"
      },
      "source": [
        "## Визуализация 5: Метрики SVD"
      ]
    },
    {
      "cell_type": "code",
      "execution_count": 18,
      "metadata": {
        "id": "QXk3y7v-3W0U"
      },
      "outputs": [
        {
          "name": "stderr",
          "output_type": "stream",
          "text": [
            "C:\\Users\\Bova\\AppData\\Local\\Temp\\ipykernel_23928\\395662139.py:7: FutureWarning: \n",
            "\n",
            "Passing `palette` without assigning `hue` is deprecated and will be removed in v0.14.0. Assign the `x` variable to `hue` and set `legend=False` for the same effect.\n",
            "\n",
            "  sns.barplot(x='Метрика', y='Значение', data=metrics_df_svd, palette='mako')\n"
          ]
        },
        {
          "data": {
            "image/png": "[encoded data removed]",
            "text/plain": [
              "<Figure size 800x500 with 1 Axes>"
            ]
          },
          "metadata": {},
          "output_type": "display_data"
        }
      ],
      "source": [
        "metrics_df_svd = pd.DataFrame({\n",
        "    'Метрика': ['RMSE', 'MAE'],\n",
        "    'Значение': [mean_rmse, mean_mae]\n",
        "})\n",
        "\n",
        "plt.figure(figsize=(8, 5))\n",
        "sns.barplot(x='Метрика', y='Значение', data=metrics_df_svd, palette='mako')\n",
        "plt.title('Метрики SVD-модели (Cross-Validation Mean)')\n",
        "plt.ylabel('Значение')\n",
        "plt.ylim(0.5, 1.0)\n",
        "plt.grid(axis='y', linestyle='--')\n",
        "plt.savefig(os.path.join(OUTPUT_DIR, 'svd_metrics.png'))\n",
        "plt.show()"
      ]
    },
    {
      "cell_type": "markdown",
      "metadata": {
        "id": "qVrtRHYf3XC8"
      },
      "source": [
        "# БЛОК 11.2: Collaborative Filtering (CF) - Surprise SVD - Оценка"
      ]
    },
    {
      "cell_type": "code",
      "execution_count": 19,
      "metadata": {
        "id": "ZNDdn35_3esV"
      },
      "outputs": [
        {
          "name": "stdout",
          "output_type": "stream",
          "text": [
            "Пример Collaborative SVD рекомендаций для пользователя ID 1:\n",
            "                              title  tmdb_id                                 genres                                                                                                                                                                                                                                                                                                                                                                                                                                                                                                                                              overview\n",
            "11689                     Tom Jones     5769  [Adventure, Comedy, History, Romance]                                                                                                                                                                                                                                                                                                                                                                                                      Tom loves Sophie and Sophie loves Tom. But Tom and Sophie are of differering classes. Can they find a way through the mayhem to be true to love?\n",
            "4599                   Modern Times     3082                        [Drama, Comedy]                                                                                                                                                                                                                                                                                                                                                                                                                                                     The Tramp struggles to live in modern industrial society with the help of a young homeless woman.\n",
            "13143                     Big Night    18203                                [Drama]                                                                                                                                                                                                                                                                                                                                                                                                                   Primo &amp; Secondo, two immigrant brothers, pin their hopes on a banquet honoring Louis Prima to save their struggling restaurant.\n",
            "1827               Sunset Boulevard      599                                [Drama]                                                                                                                                                                                                                                                                                                                                                                                                                                         A hack screenwriter writes a screenplay for a former silent-film star who has faded into Hollywood obscurity.\n",
            "4589   Mr. Smith Goes to Washington     3083                        [Comedy, Drama]  Naive and idealistic Jefferson Smith, leader of the Boy Rangers, is appointed on a lark by the spineless governor of his state. He is reunited with the state's senior senator--presidential hopeful and childhood hero, Senator Joseph Paine. In Washington, however, Smith discovers many of the shortcomings of the political process as his earnest goal of a national boys' camp leads to a conflict with the state political boss, Jim Taylor. Taylor first tries to corrupt Smith and then later attempts to destroy Smith through a scandal.\n"
          ]
        }
      ],
      "source": [
        "def get_collaborative_recommendations_demo(user_id, algo=algo_svd, movies_data=movies_df, ratings_data=ratings_df_filtered, top_n=10):\n",
        "    user_id_int = int(user_id)\n",
        "    user_rated_movies_ml = ratings_data[ratings_data['userId'] == user_id_int]['movieId_ml'].unique()\n",
        "\n",
        "    all_movies_ml_with_metadata_and_ratings = movies_data[movies_data['movieId_ml'].notna() &\n",
        "                                                           movies_data['movieId_ml'].isin(ratings_data['movieId_ml'].unique())]['movieId_ml'].unique()\n",
        "\n",
        "    movies_to_predict_ml = [mid for mid in all_movies_ml_with_metadata_and_ratings if mid not in user_rated_movies_ml]\n",
        "\n",
        "    predictions = []\n",
        "    for movie_id_ml in movies_to_predict_ml:\n",
        "        pred = algo.predict(uid=user_id_int, iid=float(movie_id_ml))\n",
        "        predictions.append(pred)\n",
        "\n",
        "    predictions.sort(key=lambda x: x.est, reverse=True)\n",
        "    top_n_predictions = predictions[:top_n]\n",
        "    recommended_movie_ids_ml = [pred.iid for pred in top_n_predictions]\n",
        "\n",
        "    recommended_movies_info = movies_data[movies_data['movieId_ml'].isin(recommended_movie_ids_ml)].copy()\n",
        "    category_order = pd.CategoricalDtype(recommended_movie_ids_ml, ordered=True)\n",
        "    recommended_movies_info['movieId_ml_ordered'] = recommended_movies_info['movieId_ml'].astype(category_order)\n",
        "    recommended_movies_info_sorted = recommended_movies_info.sort_values('movieId_ml_ordered')\n",
        "    return recommended_movies_info_sorted[['title', 'tmdb_id', 'poster_path', 'overview', 'genres']]\n",
        "\n",
        "\n",
        "# Пример использования (для демонстрации)\n",
        "example_user_id_cf = 1\n",
        "svd_recs_df = get_collaborative_recommendations_demo(example_user_id_cf)\n",
        "print(f\"Пример Collaborative SVD рекомендаций для пользователя ID {example_user_id_cf}:\")\n",
        "print(svd_recs_df[['title', 'tmdb_id', 'genres', 'overview']].head(5).to_string())"
      ]
    },
    {
      "cell_type": "markdown",
      "metadata": {
        "id": "u8bPg33Y2Wa9"
      },
      "source": [
        "# БЛОК 12: Решения для \"Холодного старта\" - Популярные фильмы"
      ]
    },
    {
      "cell_type": "code",
      "execution_count": 24,
      "metadata": {
        "id": "XMW8fkge19TE"
      },
      "outputs": [
        {
          "name": "stdout",
          "output_type": "stream",
          "text": [
            "Топ популярных фильмов (для холодного старта, пример 5):\n",
            "                          title  tmdb_id  weighted_rating\n",
            "34     The Shawshank Redemption      278         8.442353\n",
            "51                The Godfather      238         8.420635\n",
            "79  Dilwale Dulhania Le Jayenge    19404         8.385749\n",
            "15              The Dark Knight      155         8.263230\n",
            "27                   Fight Club      550         8.253557\n"
          ]
        }
      ],
      "source": [
        "C = movies_df['vote_average'].mean()\n",
        "m = movies_df['vote_count'].quantile(0.90)\n",
        "\n",
        "def weighted_rating(df, m=m, C=C):\n",
        "    v = df['vote_count']\n",
        "    R = df['vote_average']\n",
        "    return (v / (v + m) * R) + (m / (v + m) * C)\n",
        "\n",
        "movies_df['weighted_rating'] = movies_df.apply(weighted_rating, axis=1)\n",
        "popular_movies_df = movies_df.sort_values('weighted_rating', ascending=False)\n",
        "\n",
        "def get_popular_movies_demo(top_n=10, movies_data=popular_movies_df):\n",
        "    return movies_data[['title', 'tmdb_id', 'poster_path', 'overview', 'genres', 'release_date', 'weighted_rating']].head(top_n).copy()\n",
        "\n",
        "# Для Streamlit\n",
        "top_popular = get_popular_movies_demo(top_n=50)\n",
        "print(\"Топ популярных фильмов (для холодного старта, пример 5):\")\n",
        "print(top_popular[['title', 'tmdb_id', 'weighted_rating']].head())"
      ]
    },
    {
      "cell_type": "markdown",
      "metadata": {
        "id": "V5PwLYMR2U1g"
      },
      "source": [
        "# БЛОК 13: Решения для \"Холодного старта\" - Новинки каталога"
      ]
    },
    {
      "cell_type": "code",
      "execution_count": 25,
      "metadata": {
        "id": "Qe1Oxdr_1-WA"
      },
      "outputs": [
        {
          "name": "stdout",
          "output_type": "stream",
          "text": [
            "Пример 'новинки' (топ 5):\n",
            "                            title release_date  popularity  weighted_rating\n",
            "7315                     Avatar 2   2020-12-16    6.020055         4.205665\n",
            "34433  The Other Side of the Wind   2018-12-31    0.238154         5.596975\n",
            "14884           Bad Boys for Life   2018-11-07    2.178546         5.261096\n",
            "11664                Mary Shelley   2018-04-25    3.328261         5.596975\n",
            "36144                Mobile Homes   2018-04-04    0.155147         5.596975\n"
          ]
        }
      ],
      "source": [
        "movies_df['release_date'] = pd.to_datetime(movies_df['release_date'], errors='coerce')\n",
        "\n",
        "candidate_movies_for_new = movies_df[\n",
        "    movies_df['poster_path'].notna() &\n",
        "    (movies_df['overview'].notna()) & (movies_df['overview'] != '')\n",
        "].copy()\n",
        "\n",
        "rated_movie_ids_ml = ratings_df_filtered['movieId_ml'].dropna().unique()\n",
        "rated_tmdb_ids = movies_df[movies_df['movieId_ml'].isin(rated_movie_ids_ml)]['tmdb_id'].dropna().unique()\n",
        "\n",
        "new_items_unrated_df = candidate_movies_for_new[\n",
        "    ~candidate_movies_for_new['tmdb_id'].isin(rated_tmdb_ids)\n",
        "].copy()\n",
        "\n",
        "new_items_unrated_df.dropna(subset=['release_date'], inplace=True)\n",
        "\n",
        "new_items_df_sorted = new_items_unrated_df.sort_values(\n",
        "    ['release_date', 'weighted_rating', 'popularity'],\n",
        "    ascending=[False, False, False]\n",
        ")\n",
        "top_n_new_items_display = 20\n",
        "final_new_items_df = new_items_df_sorted.head(top_n_new_items_display)\n",
        "\n",
        "print(\"Пример 'новинки' (топ 5):\")\n",
        "print(final_new_items_df[['title', 'release_date', 'popularity', 'weighted_rating']].head(5))"
      ]
    },
    {
      "cell_type": "markdown",
      "metadata": {
        "id": "lAnwTs0E2Tlp"
      },
      "source": [
        "# БЛОК 14: Сохранение артефактов для Streamlit"
      ]
    },
    {
      "cell_type": "code",
      "execution_count": 26,
      "metadata": {
        "id": "HNKQ9ha31_K2"
      },
      "outputs": [],
      "source": [
        "with open(os.path.join(OUTPUT_DIR, 'movies_data.pkl'), 'wb') as f:\n",
        "    pickle.dump(movies_df, f)\n",
        "\n",
        "with open(os.path.join(OUTPUT_DIR, 'content_similarity_matrix.pkl'), 'wb') as f:\n",
        "    pickle.dump(cosine_sim_content, f)\n",
        "\n",
        "with open(os.path.join(OUTPUT_DIR, 'cb_movie_indices.pkl'), 'wb') as f:\n",
        "    pickle.dump(cb_indices, f)\n",
        "\n",
        "with open(os.path.join(OUTPUT_DIR, 'svd_model.pkl'), 'wb') as f:\n",
        "    pickle.dump(algo_svd, f)\n",
        "\n",
        "with open(os.path.join(OUTPUT_DIR, 'ratings_data_filtered.pkl'), 'wb') as f:\n",
        "    pickle.dump(ratings_df_filtered, f)\n",
        "\n",
        "with open(os.path.join(OUTPUT_DIR, 'popular_movies.pkl'), 'wb') as f:\n",
        "    pickle.dump(top_popular, f)\n",
        "\n",
        "with open(os.path.join(OUTPUT_DIR, 'movies_cb_df.pkl'), 'wb') as f:\n",
        "    pickle.dump(movies_cb_df[['title', 'tmdb_id', 'poster_path', 'overview', 'genres']], f)\n",
        "\n",
        "with open(os.path.join(OUTPUT_DIR, 'svd_evaluation_metrics.pkl'), 'wb') as f:\n",
        "    pickle.dump(svd_evaluation_metrics, f)\n",
        "\n",
        "with open(os.path.join(OUTPUT_DIR, 'new_items_for_cold_start.pkl'), 'wb') as f:\n",
        "    pickle.dump(final_new_items_df, f)\n",
        "\n",
        "with open(os.path.join(OUTPUT_DIR, 'tfidf_vectorizer.pkl'), 'wb') as f:\n",
        "    pickle.dump(tfidf, f)"
      ]
    },
    {
      "cell_type": "markdown",
      "metadata": {},
      "source": [
        "# БЛОК 15: GNN\n"
      ]
    },
    {
      "cell_type": "markdown",
      "metadata": {},
      "source": [
        "## БЛОК 1: Установка библиотек и настройка директории"
      ]
    },
    {
      "cell_type": "code",
      "execution_count": 1,
      "metadata": {},
      "outputs": [
        {
          "name": "stdout",
          "output_type": "stream",
          "text": [
            "Collecting torch_geometric\n",
            "  Downloading torch_geometric-2.6.1-py3-none-any.whl.metadata (63 kB)\n",
            "Collecting aiohttp (from torch_geometric)\n",
            "  Downloading aiohttp-3.12.9-cp312-cp312-win_amd64.whl.metadata (7.9 kB)\n",
            "Requirement already satisfied: fsspec in c:\\users\\bova\\appdata\\local\\programs\\python\\python312\\lib\\site-packages (from torch_geometric) (2025.3.2)\n",
            "Requirement already satisfied: jinja2 in c:\\users\\bova\\appdata\\local\\programs\\python\\python312\\lib\\site-packages (from torch_geometric) (3.1.6)\n",
            "Requirement already satisfied: numpy in c:\\users\\bova\\appdata\\local\\programs\\python\\python312\\lib\\site-packages (from torch_geometric) (1.26.4)\n",
            "Requirement already satisfied: psutil>=5.8.0 in c:\\users\\bova\\appdata\\roaming\\python\\python312\\site-packages (from torch_geometric) (7.0.0)\n",
            "Requirement already satisfied: pyparsing in c:\\users\\bova\\appdata\\local\\programs\\python\\python312\\lib\\site-packages (from torch_geometric) (3.2.3)\n",
            "Requirement already satisfied: requests in c:\\users\\bova\\appdata\\local\\programs\\python\\python312\\lib\\site-packages (from torch_geometric) (2.32.3)\n",
            "Requirement already satisfied: tqdm in c:\\users\\bova\\appdata\\local\\programs\\python\\python312\\lib\\site-packages (from torch_geometric) (4.67.1)\n",
            "Collecting aiohappyeyeballs>=2.5.0 (from aiohttp->torch_geometric)\n",
            "  Downloading aiohappyeyeballs-2.6.1-py3-none-any.whl.metadata (5.9 kB)\n",
            "Collecting aiosignal>=1.1.2 (from aiohttp->torch_geometric)\n",
            "  Downloading aiosignal-1.3.2-py2.py3-none-any.whl.metadata (3.8 kB)\n",
            "Requirement already satisfied: attrs>=17.3.0 in c:\\users\\bova\\appdata\\local\\programs\\python\\python312\\lib\\site-packages (from aiohttp->torch_geometric) (25.3.0)\n",
            "Collecting frozenlist>=1.1.1 (from aiohttp->torch_geometric)\n",
            "  Downloading frozenlist-1.6.2-cp312-cp312-win_amd64.whl.metadata (17 kB)\n",
            "Collecting multidict<7.0,>=4.5 (from aiohttp->torch_geometric)\n",
            "  Downloading multidict-6.4.4-cp312-cp312-win_amd64.whl.metadata (5.5 kB)\n",
            "Collecting propcache>=0.2.0 (from aiohttp->torch_geometric)\n",
            "  Downloading propcache-0.3.1-cp312-cp312-win_amd64.whl.metadata (11 kB)\n",
            "Collecting yarl<2.0,>=1.17.0 (from aiohttp->torch_geometric)\n",
            "  Downloading yarl-1.20.0-cp312-cp312-win_amd64.whl.metadata (74 kB)\n",
            "Requirement already satisfied: idna>=2.0 in c:\\users\\bova\\appdata\\local\\programs\\python\\python312\\lib\\site-packages (from yarl<2.0,>=1.17.0->aiohttp->torch_geometric) (3.10)\n",
            "Requirement already satisfied: MarkupSafe>=2.0 in c:\\users\\bova\\appdata\\local\\programs\\python\\python312\\lib\\site-packages (from jinja2->torch_geometric) (3.0.2)\n",
            "Requirement already satisfied: charset-normalizer<4,>=2 in c:\\users\\bova\\appdata\\local\\programs\\python\\python312\\lib\\site-packages (from requests->torch_geometric) (3.4.1)\n",
            "Requirement already satisfied: urllib3<3,>=1.21.1 in c:\\users\\bova\\appdata\\local\\programs\\python\\python312\\lib\\site-packages (from requests->torch_geometric) (2.4.0)\n",
            "Requirement already satisfied: certifi>=2017.4.17 in c:\\users\\bova\\appdata\\local\\programs\\python\\python312\\lib\\site-packages (from requests->torch_geometric) (2025.1.31)\n",
            "Requirement already satisfied: colorama in c:\\users\\bova\\appdata\\local\\programs\\python\\python312\\lib\\site-packages (from tqdm->torch_geometric) (0.4.6)\n",
            "Downloading torch_geometric-2.6.1-py3-none-any.whl (1.1 MB)\n",
            "   ---------------------------------------- 0.0/1.1 MB ? eta -:--:--\n",
            "   ------------------ --------------------- 0.5/1.1 MB 4.2 MB/s eta 0:00:01\n",
            "   ---------------------------------------- 1.1/1.1 MB 3.1 MB/s eta 0:00:00\n",
            "Downloading aiohttp-3.12.9-cp312-cp312-win_amd64.whl (446 kB)\n",
            "Downloading multidict-6.4.4-cp312-cp312-win_amd64.whl (38 kB)\n",
            "Downloading yarl-1.20.0-cp312-cp312-win_amd64.whl (92 kB)\n",
            "Downloading aiohappyeyeballs-2.6.1-py3-none-any.whl (15 kB)\n",
            "Downloading aiosignal-1.3.2-py2.py3-none-any.whl (7.6 kB)\n",
            "Downloading frozenlist-1.6.2-cp312-cp312-win_amd64.whl (45 kB)\n",
            "Downloading propcache-0.3.1-cp312-cp312-win_amd64.whl (44 kB)\n",
            "Installing collected packages: propcache, multidict, frozenlist, aiohappyeyeballs, yarl, aiosignal, aiohttp, torch_geometric\n",
            "\n",
            "   ------------------------------ --------- 6/8 [aiohttp]\n",
            "   ------------------------------ --------- 6/8 [aiohttp]\n",
            "   ----------------------------------- ---- 7/8 [torch_geometric]\n",
            "   ----------------------------------- ---- 7/8 [torch_geometric]\n",
            "   ----------------------------------- ---- 7/8 [torch_geometric]\n",
            "   ----------------------------------- ---- 7/8 [torch_geometric]\n",
            "   ----------------------------------- ---- 7/8 [torch_geometric]\n",
            "   ----------------------------------- ---- 7/8 [torch_geometric]\n",
            "   ----------------------------------- ---- 7/8 [torch_geometric]\n",
            "   ----------------------------------- ---- 7/8 [torch_geometric]\n",
            "   ---------------------------------------- 8/8 [torch_geometric]\n",
            "\n",
            "Successfully installed aiohappyeyeballs-2.6.1 aiohttp-3.12.9 aiosignal-1.3.2 frozenlist-1.6.2 multidict-6.4.4 propcache-0.3.1 torch_geometric-2.6.1 yarl-1.20.0\n",
            "Note: you may need to restart the kernel to use updated packages.\n"
          ]
        }
      ],
      "source": [
        "pip install torch_geometric"
      ]
    },
    {
      "cell_type": "code",
      "execution_count": 2,
      "metadata": {},
      "outputs": [],
      "source": [
        "import pandas as pd\n",
        "import numpy as np\n",
        "import torch\n",
        "import torch.nn as nn\n",
        "import torch.nn.functional as F\n",
        "import torch.optim as optim\n",
        "from torch_geometric.data import Data\n",
        "from torch_geometric.nn import SAGEConv\n",
        "from sklearn.preprocessing import LabelEncoder, StandardScaler, OneHotEncoder\n",
        "from collections import defaultdict\n",
        "import matplotlib.pyplot as plt\n",
        "import seaborn as sns\n",
        "import pickle\n",
        "import os\n",
        "\n",
        "device = torch.device('cuda' if torch.cuda.is_available() else 'cpu')\n",
        "OUTPUT_DIR_GNN = 'streamlit_data_gnn'\n",
        "os.makedirs(OUTPUT_DIR_GNN, exist_ok=True)\n",
        "DATA_DIR_ML100K = 'ml-100k/ml-100k/'"
      ]
    },
    {
      "cell_type": "markdown",
      "metadata": {},
      "source": [
        "## БЛОК 2: Загрузка и базовая предобработка данных MovieLens 100k"
      ]
    },
    {
      "cell_type": "code",
      "execution_count": 3,
      "metadata": {},
      "outputs": [
        {
          "ename": "FileNotFoundError",
          "evalue": "[Errno 2] No such file or directory: 'ml-100k/ml-100k/u.data'",
          "output_type": "error",
          "traceback": [
            "\u001b[31m---------------------------------------------------------------------------\u001b[39m",
            "\u001b[31mFileNotFoundError\u001b[39m                         Traceback (most recent call last)",
            "\u001b[36mCell\u001b[39m\u001b[36m \u001b[39m\u001b[32mIn[3]\u001b[39m\u001b[32m, line 1\u001b[39m\n\u001b[32m----> \u001b[39m\u001b[32m1\u001b[39m ratings_df = \u001b[43mpd\u001b[49m\u001b[43m.\u001b[49m\u001b[43mread_csv\u001b[49m\u001b[43m(\u001b[49m\u001b[43mDATA_DIR_ML100K\u001b[49m\u001b[43m \u001b[49m\u001b[43m+\u001b[49m\u001b[43m \u001b[49m\u001b[33;43m'\u001b[39;49m\u001b[33;43mu.data\u001b[39;49m\u001b[33;43m'\u001b[39;49m\u001b[43m,\u001b[49m\u001b[43m \u001b[49m\u001b[43msep\u001b[49m\u001b[43m=\u001b[49m\u001b[33;43m'\u001b[39;49m\u001b[38;5;130;43;01m\\t\u001b[39;49;00m\u001b[33;43m'\u001b[39;49m\u001b[43m,\u001b[49m\u001b[43m \u001b[49m\u001b[43mnames\u001b[49m\u001b[43m=\u001b[49m\u001b[43m[\u001b[49m\u001b[33;43m'\u001b[39;49m\u001b[33;43muser_id\u001b[39;49m\u001b[33;43m'\u001b[39;49m\u001b[43m,\u001b[49m\u001b[43m \u001b[49m\u001b[33;43m'\u001b[39;49m\u001b[33;43mitem_id\u001b[39;49m\u001b[33;43m'\u001b[39;49m\u001b[43m,\u001b[49m\u001b[43m \u001b[49m\u001b[33;43m'\u001b[39;49m\u001b[33;43mrating\u001b[39;49m\u001b[33;43m'\u001b[39;49m\u001b[43m,\u001b[49m\u001b[43m \u001b[49m\u001b[33;43m'\u001b[39;49m\u001b[33;43mtimestamp\u001b[39;49m\u001b[33;43m'\u001b[39;49m\u001b[43m]\u001b[49m\u001b[43m)\u001b[49m\n\u001b[32m      2\u001b[39m users_df = pd.read_csv(DATA_DIR_ML100K + \u001b[33m'\u001b[39m\u001b[33mu.user\u001b[39m\u001b[33m'\u001b[39m, sep=\u001b[33m'\u001b[39m\u001b[33m|\u001b[39m\u001b[33m'\u001b[39m, names=[\u001b[33m'\u001b[39m\u001b[33muser_id\u001b[39m\u001b[33m'\u001b[39m, \u001b[33m'\u001b[39m\u001b[33mage\u001b[39m\u001b[33m'\u001b[39m, \u001b[33m'\u001b[39m\u001b[33mgender\u001b[39m\u001b[33m'\u001b[39m, \u001b[33m'\u001b[39m\u001b[33moccupation\u001b[39m\u001b[33m'\u001b[39m, \u001b[33m'\u001b[39m\u001b[33mzip_code\u001b[39m\u001b[33m'\u001b[39m])\n\u001b[32m      4\u001b[39m genres = pd.read_csv(DATA_DIR_ML100K + \u001b[33m'\u001b[39m\u001b[33mu.genre\u001b[39m\u001b[33m'\u001b[39m, sep=\u001b[33m'\u001b[39m\u001b[33m|\u001b[39m\u001b[33m'\u001b[39m, names=[\u001b[33m'\u001b[39m\u001b[33mgenre_name\u001b[39m\u001b[33m'\u001b[39m, \u001b[33m'\u001b[39m\u001b[33mgenre_id\u001b[39m\u001b[33m'\u001b[39m])[\u001b[33m'\u001b[39m\u001b[33mgenre_name\u001b[39m\u001b[33m'\u001b[39m].tolist()\n",
            "\u001b[36mFile \u001b[39m\u001b[32mc:\\Users\\Bova\\AppData\\Local\\Programs\\Python\\Python312\\Lib\\site-packages\\pandas\\util\\_decorators.py:211\u001b[39m, in \u001b[36mdeprecate_kwarg.<locals>._deprecate_kwarg.<locals>.wrapper\u001b[39m\u001b[34m(*args, **kwargs)\u001b[39m\n\u001b[32m    209\u001b[39m     \u001b[38;5;28;01melse\u001b[39;00m:\n\u001b[32m    210\u001b[39m         kwargs[new_arg_name] = new_arg_value\n\u001b[32m--> \u001b[39m\u001b[32m211\u001b[39m \u001b[38;5;28;01mreturn\u001b[39;00m \u001b[43mfunc\u001b[49m\u001b[43m(\u001b[49m\u001b[43m*\u001b[49m\u001b[43margs\u001b[49m\u001b[43m,\u001b[49m\u001b[43m \u001b[49m\u001b[43m*\u001b[49m\u001b[43m*\u001b[49m\u001b[43mkwargs\u001b[49m\u001b[43m)\u001b[49m\n",
            "\u001b[36mFile \u001b[39m\u001b[32mc:\\Users\\Bova\\AppData\\Local\\Programs\\Python\\Python312\\Lib\\site-packages\\pandas\\util\\_decorators.py:331\u001b[39m, in \u001b[36mdeprecate_nonkeyword_arguments.<locals>.decorate.<locals>.wrapper\u001b[39m\u001b[34m(*args, **kwargs)\u001b[39m\n\u001b[32m    325\u001b[39m \u001b[38;5;28;01mif\u001b[39;00m \u001b[38;5;28mlen\u001b[39m(args) > num_allow_args:\n\u001b[32m    326\u001b[39m     warnings.warn(\n\u001b[32m    327\u001b[39m         msg.format(arguments=_format_argument_list(allow_args)),\n\u001b[32m    328\u001b[39m         \u001b[38;5;167;01mFutureWarning\u001b[39;00m,\n\u001b[32m    329\u001b[39m         stacklevel=find_stack_level(),\n\u001b[32m    330\u001b[39m     )\n\u001b[32m--> \u001b[39m\u001b[32m331\u001b[39m \u001b[38;5;28;01mreturn\u001b[39;00m \u001b[43mfunc\u001b[49m\u001b[43m(\u001b[49m\u001b[43m*\u001b[49m\u001b[43margs\u001b[49m\u001b[43m,\u001b[49m\u001b[43m \u001b[49m\u001b[43m*\u001b[49m\u001b[43m*\u001b[49m\u001b[43mkwargs\u001b[49m\u001b[43m)\u001b[49m\n",
            "\u001b[36mFile \u001b[39m\u001b[32mc:\\Users\\Bova\\AppData\\Local\\Programs\\Python\\Python312\\Lib\\site-packages\\pandas\\io\\parsers\\readers.py:950\u001b[39m, in \u001b[36mread_csv\u001b[39m\u001b[34m(filepath_or_buffer, sep, delimiter, header, names, index_col, usecols, squeeze, prefix, mangle_dupe_cols, dtype, engine, converters, true_values, false_values, skipinitialspace, skiprows, skipfooter, nrows, na_values, keep_default_na, na_filter, verbose, skip_blank_lines, parse_dates, infer_datetime_format, keep_date_col, date_parser, dayfirst, cache_dates, iterator, chunksize, compression, thousands, decimal, lineterminator, quotechar, quoting, doublequote, escapechar, comment, encoding, encoding_errors, dialect, error_bad_lines, warn_bad_lines, on_bad_lines, delim_whitespace, low_memory, memory_map, float_precision, storage_options)\u001b[39m\n\u001b[32m    935\u001b[39m kwds_defaults = _refine_defaults_read(\n\u001b[32m    936\u001b[39m     dialect,\n\u001b[32m    937\u001b[39m     delimiter,\n\u001b[32m   (...)\u001b[39m\u001b[32m    946\u001b[39m     defaults={\u001b[33m\"\u001b[39m\u001b[33mdelimiter\u001b[39m\u001b[33m\"\u001b[39m: \u001b[33m\"\u001b[39m\u001b[33m,\u001b[39m\u001b[33m\"\u001b[39m},\n\u001b[32m    947\u001b[39m )\n\u001b[32m    948\u001b[39m kwds.update(kwds_defaults)\n\u001b[32m--> \u001b[39m\u001b[32m950\u001b[39m \u001b[38;5;28;01mreturn\u001b[39;00m \u001b[43m_read\u001b[49m\u001b[43m(\u001b[49m\u001b[43mfilepath_or_buffer\u001b[49m\u001b[43m,\u001b[49m\u001b[43m \u001b[49m\u001b[43mkwds\u001b[49m\u001b[43m)\u001b[49m\n",
            "\u001b[36mFile \u001b[39m\u001b[32mc:\\Users\\Bova\\AppData\\Local\\Programs\\Python\\Python312\\Lib\\site-packages\\pandas\\io\\parsers\\readers.py:605\u001b[39m, in \u001b[36m_read\u001b[39m\u001b[34m(filepath_or_buffer, kwds)\u001b[39m\n\u001b[32m    602\u001b[39m _validate_names(kwds.get(\u001b[33m\"\u001b[39m\u001b[33mnames\u001b[39m\u001b[33m\"\u001b[39m, \u001b[38;5;28;01mNone\u001b[39;00m))\n\u001b[32m    604\u001b[39m \u001b[38;5;66;03m# Create the parser.\u001b[39;00m\n\u001b[32m--> \u001b[39m\u001b[32m605\u001b[39m parser = \u001b[43mTextFileReader\u001b[49m\u001b[43m(\u001b[49m\u001b[43mfilepath_or_buffer\u001b[49m\u001b[43m,\u001b[49m\u001b[43m \u001b[49m\u001b[43m*\u001b[49m\u001b[43m*\u001b[49m\u001b[43mkwds\u001b[49m\u001b[43m)\u001b[49m\n\u001b[32m    607\u001b[39m \u001b[38;5;28;01mif\u001b[39;00m chunksize \u001b[38;5;129;01mor\u001b[39;00m iterator:\n\u001b[32m    608\u001b[39m     \u001b[38;5;28;01mreturn\u001b[39;00m parser\n",
            "\u001b[36mFile \u001b[39m\u001b[32mc:\\Users\\Bova\\AppData\\Local\\Programs\\Python\\Python312\\Lib\\site-packages\\pandas\\io\\parsers\\readers.py:1442\u001b[39m, in \u001b[36mTextFileReader.__init__\u001b[39m\u001b[34m(self, f, engine, **kwds)\u001b[39m\n\u001b[32m   1439\u001b[39m     \u001b[38;5;28mself\u001b[39m.options[\u001b[33m\"\u001b[39m\u001b[33mhas_index_names\u001b[39m\u001b[33m\"\u001b[39m] = kwds[\u001b[33m\"\u001b[39m\u001b[33mhas_index_names\u001b[39m\u001b[33m\"\u001b[39m]\n\u001b[32m   1441\u001b[39m \u001b[38;5;28mself\u001b[39m.handles: IOHandles | \u001b[38;5;28;01mNone\u001b[39;00m = \u001b[38;5;28;01mNone\u001b[39;00m\n\u001b[32m-> \u001b[39m\u001b[32m1442\u001b[39m \u001b[38;5;28mself\u001b[39m._engine = \u001b[38;5;28;43mself\u001b[39;49m\u001b[43m.\u001b[49m\u001b[43m_make_engine\u001b[49m\u001b[43m(\u001b[49m\u001b[43mf\u001b[49m\u001b[43m,\u001b[49m\u001b[43m \u001b[49m\u001b[38;5;28;43mself\u001b[39;49m\u001b[43m.\u001b[49m\u001b[43mengine\u001b[49m\u001b[43m)\u001b[49m\n",
            "\u001b[36mFile \u001b[39m\u001b[32mc:\\Users\\Bova\\AppData\\Local\\Programs\\Python\\Python312\\Lib\\site-packages\\pandas\\io\\parsers\\readers.py:1735\u001b[39m, in \u001b[36mTextFileReader._make_engine\u001b[39m\u001b[34m(self, f, engine)\u001b[39m\n\u001b[32m   1733\u001b[39m     \u001b[38;5;28;01mif\u001b[39;00m \u001b[33m\"\u001b[39m\u001b[33mb\u001b[39m\u001b[33m\"\u001b[39m \u001b[38;5;129;01mnot\u001b[39;00m \u001b[38;5;129;01min\u001b[39;00m mode:\n\u001b[32m   1734\u001b[39m         mode += \u001b[33m\"\u001b[39m\u001b[33mb\u001b[39m\u001b[33m\"\u001b[39m\n\u001b[32m-> \u001b[39m\u001b[32m1735\u001b[39m \u001b[38;5;28mself\u001b[39m.handles = \u001b[43mget_handle\u001b[49m\u001b[43m(\u001b[49m\n\u001b[32m   1736\u001b[39m \u001b[43m    \u001b[49m\u001b[43mf\u001b[49m\u001b[43m,\u001b[49m\n\u001b[32m   1737\u001b[39m \u001b[43m    \u001b[49m\u001b[43mmode\u001b[49m\u001b[43m,\u001b[49m\n\u001b[32m   1738\u001b[39m \u001b[43m    \u001b[49m\u001b[43mencoding\u001b[49m\u001b[43m=\u001b[49m\u001b[38;5;28;43mself\u001b[39;49m\u001b[43m.\u001b[49m\u001b[43moptions\u001b[49m\u001b[43m.\u001b[49m\u001b[43mget\u001b[49m\u001b[43m(\u001b[49m\u001b[33;43m\"\u001b[39;49m\u001b[33;43mencoding\u001b[39;49m\u001b[33;43m\"\u001b[39;49m\u001b[43m,\u001b[49m\u001b[43m \u001b[49m\u001b[38;5;28;43;01mNone\u001b[39;49;00m\u001b[43m)\u001b[49m\u001b[43m,\u001b[49m\n\u001b[32m   1739\u001b[39m \u001b[43m    \u001b[49m\u001b[43mcompression\u001b[49m\u001b[43m=\u001b[49m\u001b[38;5;28;43mself\u001b[39;49m\u001b[43m.\u001b[49m\u001b[43moptions\u001b[49m\u001b[43m.\u001b[49m\u001b[43mget\u001b[49m\u001b[43m(\u001b[49m\u001b[33;43m\"\u001b[39;49m\u001b[33;43mcompression\u001b[39;49m\u001b[33;43m\"\u001b[39;49m\u001b[43m,\u001b[49m\u001b[43m \u001b[49m\u001b[38;5;28;43;01mNone\u001b[39;49;00m\u001b[43m)\u001b[49m\u001b[43m,\u001b[49m\n\u001b[32m   1740\u001b[39m \u001b[43m    \u001b[49m\u001b[43mmemory_map\u001b[49m\u001b[43m=\u001b[49m\u001b[38;5;28;43mself\u001b[39;49m\u001b[43m.\u001b[49m\u001b[43moptions\u001b[49m\u001b[43m.\u001b[49m\u001b[43mget\u001b[49m\u001b[43m(\u001b[49m\u001b[33;43m\"\u001b[39;49m\u001b[33;43mmemory_map\u001b[39;49m\u001b[33;43m\"\u001b[39;49m\u001b[43m,\u001b[49m\u001b[43m \u001b[49m\u001b[38;5;28;43;01mFalse\u001b[39;49;00m\u001b[43m)\u001b[49m\u001b[43m,\u001b[49m\n\u001b[32m   1741\u001b[39m \u001b[43m    \u001b[49m\u001b[43mis_text\u001b[49m\u001b[43m=\u001b[49m\u001b[43mis_text\u001b[49m\u001b[43m,\u001b[49m\n\u001b[32m   1742\u001b[39m \u001b[43m    \u001b[49m\u001b[43merrors\u001b[49m\u001b[43m=\u001b[49m\u001b[38;5;28;43mself\u001b[39;49m\u001b[43m.\u001b[49m\u001b[43moptions\u001b[49m\u001b[43m.\u001b[49m\u001b[43mget\u001b[49m\u001b[43m(\u001b[49m\u001b[33;43m\"\u001b[39;49m\u001b[33;43mencoding_errors\u001b[39;49m\u001b[33;43m\"\u001b[39;49m\u001b[43m,\u001b[49m\u001b[43m \u001b[49m\u001b[33;43m\"\u001b[39;49m\u001b[33;43mstrict\u001b[39;49m\u001b[33;43m\"\u001b[39;49m\u001b[43m)\u001b[49m\u001b[43m,\u001b[49m\n\u001b[32m   1743\u001b[39m \u001b[43m    \u001b[49m\u001b[43mstorage_options\u001b[49m\u001b[43m=\u001b[49m\u001b[38;5;28;43mself\u001b[39;49m\u001b[43m.\u001b[49m\u001b[43moptions\u001b[49m\u001b[43m.\u001b[49m\u001b[43mget\u001b[49m\u001b[43m(\u001b[49m\u001b[33;43m\"\u001b[39;49m\u001b[33;43mstorage_options\u001b[39;49m\u001b[33;43m\"\u001b[39;49m\u001b[43m,\u001b[49m\u001b[43m \u001b[49m\u001b[38;5;28;43;01mNone\u001b[39;49;00m\u001b[43m)\u001b[49m\u001b[43m,\u001b[49m\n\u001b[32m   1744\u001b[39m \u001b[43m\u001b[49m\u001b[43m)\u001b[49m\n\u001b[32m   1745\u001b[39m \u001b[38;5;28;01massert\u001b[39;00m \u001b[38;5;28mself\u001b[39m.handles \u001b[38;5;129;01mis\u001b[39;00m \u001b[38;5;129;01mnot\u001b[39;00m \u001b[38;5;28;01mNone\u001b[39;00m\n\u001b[32m   1746\u001b[39m f = \u001b[38;5;28mself\u001b[39m.handles.handle\n",
            "\u001b[36mFile \u001b[39m\u001b[32mc:\\Users\\Bova\\AppData\\Local\\Programs\\Python\\Python312\\Lib\\site-packages\\pandas\\io\\common.py:856\u001b[39m, in \u001b[36mget_handle\u001b[39m\u001b[34m(path_or_buf, mode, encoding, compression, memory_map, is_text, errors, storage_options)\u001b[39m\n\u001b[32m    851\u001b[39m \u001b[38;5;28;01melif\u001b[39;00m \u001b[38;5;28misinstance\u001b[39m(handle, \u001b[38;5;28mstr\u001b[39m):\n\u001b[32m    852\u001b[39m     \u001b[38;5;66;03m# Check whether the filename is to be opened in binary mode.\u001b[39;00m\n\u001b[32m    853\u001b[39m     \u001b[38;5;66;03m# Binary mode does not support 'encoding' and 'newline'.\u001b[39;00m\n\u001b[32m    854\u001b[39m     \u001b[38;5;28;01mif\u001b[39;00m ioargs.encoding \u001b[38;5;129;01mand\u001b[39;00m \u001b[33m\"\u001b[39m\u001b[33mb\u001b[39m\u001b[33m\"\u001b[39m \u001b[38;5;129;01mnot\u001b[39;00m \u001b[38;5;129;01min\u001b[39;00m ioargs.mode:\n\u001b[32m    855\u001b[39m         \u001b[38;5;66;03m# Encoding\u001b[39;00m\n\u001b[32m--> \u001b[39m\u001b[32m856\u001b[39m         handle = \u001b[38;5;28;43mopen\u001b[39;49m\u001b[43m(\u001b[49m\n\u001b[32m    857\u001b[39m \u001b[43m            \u001b[49m\u001b[43mhandle\u001b[49m\u001b[43m,\u001b[49m\n\u001b[32m    858\u001b[39m \u001b[43m            \u001b[49m\u001b[43mioargs\u001b[49m\u001b[43m.\u001b[49m\u001b[43mmode\u001b[49m\u001b[43m,\u001b[49m\n\u001b[32m    859\u001b[39m \u001b[43m            \u001b[49m\u001b[43mencoding\u001b[49m\u001b[43m=\u001b[49m\u001b[43mioargs\u001b[49m\u001b[43m.\u001b[49m\u001b[43mencoding\u001b[49m\u001b[43m,\u001b[49m\n\u001b[32m    860\u001b[39m \u001b[43m            \u001b[49m\u001b[43merrors\u001b[49m\u001b[43m=\u001b[49m\u001b[43merrors\u001b[49m\u001b[43m,\u001b[49m\n\u001b[32m    861\u001b[39m \u001b[43m            \u001b[49m\u001b[43mnewline\u001b[49m\u001b[43m=\u001b[49m\u001b[33;43m\"\u001b[39;49m\u001b[33;43m\"\u001b[39;49m\u001b[43m,\u001b[49m\n\u001b[32m    862\u001b[39m \u001b[43m        \u001b[49m\u001b[43m)\u001b[49m\n\u001b[32m    863\u001b[39m     \u001b[38;5;28;01melse\u001b[39;00m:\n\u001b[32m    864\u001b[39m         \u001b[38;5;66;03m# Binary mode\u001b[39;00m\n\u001b[32m    865\u001b[39m         handle = \u001b[38;5;28mopen\u001b[39m(handle, ioargs.mode)\n",
            "\u001b[31mFileNotFoundError\u001b[39m: [Errno 2] No such file or directory: 'ml-100k/ml-100k/u.data'"
          ]
        }
      ],
      "source": [
        "ratings_df = pd.read_csv(DATA_DIR_ML100K + 'u.data', sep='\\t', names=['user_id', 'item_id', 'rating', 'timestamp'])\n",
        "users_df = pd.read_csv(DATA_DIR_ML100K + 'u.user', sep='|', names=['user_id', 'age', 'gender', 'occupation', 'zip_code'])\n",
        "\n",
        "genres = pd.read_csv(DATA_DIR_ML100K + 'u.genre', sep='|', names=['genre_name', 'genre_id'])['genre_name'].tolist()\n",
        "item_cols = ['item_id', 'movie_title', 'release_date', 'video_release_date', 'IMDb_URL']\n",
        "item_cols.extend(genres)\n",
        "\n",
        "items_df = pd.read_csv(DATA_DIR_ML100K + 'u.item', sep='|', names=item_cols, encoding='latin-1')"
      ]
    },
    {
      "cell_type": "markdown",
      "metadata": {},
      "source": [
        "## БЛОК 3: Подготовка признаков пользователей и фильмов для GNN"
      ]
    },
    {
      "cell_type": "code",
      "execution_count": null,
      "metadata": {},
      "outputs": [],
      "source": [
        "user_encoder = LabelEncoder()\n",
        "ratings_df['user_idx'] = user_encoder.fit_transform(ratings_df['user_id'])\n",
        "users_df['user_idx'] = user_encoder.transform(users_df['user_id'])\n",
        "\n",
        "item_encoder = LabelEncoder()\n",
        "ratings_df['item_idx'] = item_encoder.fit_transform(ratings_df['item_id'])\n",
        "items_df['item_idx'] = item_encoder.transform(items_df['item_id'])\n",
        "\n",
        "num_users = ratings_df['user_idx'].nunique()\n",
        "num_items = ratings_df['item_idx'].nunique()\n",
        "\n",
        "gender_encoder = OneHotEncoder(sparse_output=False, handle_unknown='ignore')\n",
        "gender_encoded = gender_encoder.fit_transform(users_df[['gender']])\n",
        "gender_df = pd.DataFrame(gender_encoded, columns=gender_encoder.get_feature_names_out(['gender']))\n",
        "\n",
        "occupation_encoder = OneHotEncoder(sparse_output=False, handle_unknown='ignore')\n",
        "occupation_encoded = occupation_encoder.fit_transform(users_df[['occupation']])\n",
        "occupation_df = pd.DataFrame(occupation_encoded, columns=occupation_encoder.get_feature_names_out(['occupation']))\n",
        "\n",
        "age_scaler = StandardScaler()\n",
        "users_df['age_scaled'] = age_scaler.fit_transform(users_df[['age']])\n",
        "\n",
        "user_features_df = pd.concat([users_df[['user_idx', 'age_scaled']], gender_df, occupation_df], axis=1)\n",
        "user_features_df = user_features_df.set_index('user_idx').sort_index()\n",
        "user_features_df = user_features_df.fillna(0)\n",
        "user_features_tensor = torch.tensor(user_features_df.values, dtype=torch.float)\n",
        "\n",
        "plt.figure(figsize=(8, 5))\n",
        "sns.histplot(users_df['age'], bins=20, kde=True)\n",
        "plt.title('Распределение возраста пользователей')\n",
        "plt.xlabel('Возраст')\n",
        "plt.ylabel('Количество')\n",
        "plt.savefig(os.path.join(OUTPUT_DIR_GNN, 'user_age_distribution.png'))\n",
        "plt.show()\n",
        "\n",
        "def extract_year(date_str):\n",
        "    if pd.isna(date_str) or not isinstance(date_str, str) or len(date_str) < 4:\n",
        "        return 1950\n",
        "    try:\n",
        "        return int(date_str.split('-')[-1])\n",
        "    except:\n",
        "        return 1950\n",
        "\n",
        "items_df['release_year'] = items_df['release_date'].apply(extract_year)\n",
        "year_scaler = StandardScaler()\n",
        "items_df['release_year_scaled'] = year_scaler.fit_transform(items_df[['release_year']])\n",
        "\n",
        "item_genre_features = items_df[genres].values\n",
        "item_year_feature = items_df[['release_year_scaled']].values\n",
        "\n",
        "items_features_base_df = items_df[['item_idx']].copy()\n",
        "items_features_base_df['release_year_scaled'] = item_year_feature\n",
        "for i, genre_name in enumerate(genres):\n",
        "    items_features_base_df[genre_name] = item_genre_features[:, i]\n",
        "\n",
        "items_features_df = items_features_base_df.set_index('item_idx').sort_index()\n",
        "items_features_df = items_features_df.fillna(0)\n",
        "item_features_tensor = torch.tensor(items_features_df.values, dtype=torch.float)\n",
        "\n",
        "plt.figure(figsize=(10, 6))\n",
        "sns.histplot(items_df['release_year'], bins=30, kde=True)\n",
        "plt.title('Распределение годов выпуска фильмов')\n",
        "plt.xlabel('Год выпуска')\n",
        "plt.ylabel('Количество')\n",
        "plt.savefig(os.path.join(OUTPUT_DIR_GNN, 'movie_release_year_distribution.png'))\n",
        "plt.show()"
      ]
    },
    {
      "cell_type": "markdown",
      "metadata": {},
      "source": [
        "## БЛОК 4: Разделение данных и создание графа для GNN"
      ]
    },
    {
      "cell_type": "code",
      "execution_count": null,
      "metadata": {},
      "outputs": [],
      "source": [
        "train_ratings_df = pd.read_csv(DATA_DIR_ML100K + 'u1.base', sep='\\t', names=['user_id', 'item_id', 'rating', 'timestamp'])\n",
        "test_ratings_df = pd.read_csv(DATA_DIR_ML100K + 'u1.test', sep='\\t', names=['user_id', 'item_id', 'rating', 'timestamp'])\n",
        "\n",
        "train_ratings_df['user_idx'] = user_encoder.transform(train_ratings_df['user_id'])\n",
        "train_ratings_df['item_idx'] = item_encoder.transform(train_ratings_df['item_id'])\n",
        "test_ratings_df['user_idx'] = user_encoder.transform(test_ratings_df['user_id'])\n",
        "test_ratings_df['item_idx'] = item_encoder.transform(test_ratings_df['item_id'])\n",
        "\n",
        "train_src = torch.tensor(train_ratings_df['user_idx'].values, dtype=torch.long)\n",
        "train_dst = torch.tensor(train_ratings_df['item_idx'].values, dtype=torch.long)\n",
        "train_edge_index = torch.stack([train_src, train_dst], dim=0)\n",
        "\n",
        "test_src = torch.tensor(test_ratings_df['user_idx'].values, dtype=torch.long)\n",
        "test_dst = torch.tensor(test_ratings_df['item_idx'].values, dtype=torch.long)\n",
        "test_pos_edge_index = torch.stack([test_src, test_dst], dim=0)\n",
        "\n",
        "train_pos_pairs = set(tuple(x) for x in train_ratings_df[['user_idx', 'item_idx']].values)\n",
        "\n",
        "data_gnn = Data(\n",
        "    num_users=num_users,\n",
        "    num_items=num_items,\n",
        "    train_pos_edge_index=train_edge_index\n",
        ")"
      ]
    },
    {
      "cell_type": "markdown",
      "metadata": {},
      "source": [
        "\n",
        "## БЛОК 5: Реализация GNN модели"
      ]
    },
    {
      "cell_type": "code",
      "execution_count": null,
      "metadata": {},
      "outputs": [],
      "source": [
        "class GNNRecommender(nn.Module):\n",
        "    def __init__(self, num_users, num_items, embedding_dim, user_feature_dim, item_feature_dim, hidden_channels, num_layers=2, use_features=True):\n",
        "        super().__init__()\n",
        "        self.use_features = use_features\n",
        "        self.num_users = num_users\n",
        "        self.num_items = num_items\n",
        "\n",
        "        self.user_id_emb = nn.Embedding(num_users, embedding_dim)\n",
        "        self.item_id_emb = nn.Embedding(num_items, embedding_dim)\n",
        "\n",
        "        gnn_input_dim = embedding_dim * 2 if self.use_features else embedding_dim\n",
        "        if self.use_features:\n",
        "            self.user_feat_proj = nn.Linear(user_feature_dim, embedding_dim)\n",
        "            self.item_feat_proj = nn.Linear(item_feature_dim, embedding_dim)\n",
        "\n",
        "        self.convs = nn.ModuleList()\n",
        "        self.convs.append(SAGEConv(gnn_input_dim, hidden_channels))\n",
        "        for _ in range(num_layers - 1):\n",
        "            self.convs.append(SAGEConv(hidden_channels, hidden_channels))\n",
        "\n",
        "        self.final_user_emb_dim = hidden_channels\n",
        "        self.final_item_emb_dim = hidden_channels\n",
        "\n",
        "    def get_initial_embeddings(self, user_indices, item_indices, user_features, item_features):\n",
        "        user_id_embs = self.user_id_emb(user_indices)\n",
        "        item_id_embs = self.item_id_emb(item_indices)\n",
        "\n",
        "        if self.use_features:\n",
        "            user_feat_embs = self.user_feat_proj(user_features[user_indices])\n",
        "            item_feat_embs = self.item_feat_proj(item_features[item_indices])\n",
        "            user_embs = torch.cat([user_id_embs, user_feat_embs], dim=1)\n",
        "            item_embs = torch.cat([item_id_embs, item_feat_embs], dim=1)\n",
        "        else:\n",
        "            user_embs = user_id_embs\n",
        "            item_embs = item_id_embs\n",
        "        return user_embs, item_embs\n",
        "\n",
        "    def encode(self, x_user_initial, x_item_initial, edge_index):\n",
        "        x_user = x_user_initial\n",
        "        x_item = x_item_initial\n",
        "\n",
        "        for conv in self.convs:\n",
        "            x_item_new = conv((x_user, x_item), edge_index)\n",
        "            x_item_new = F.relu(x_item_new)\n",
        "            x_item_new = F.dropout(x_item_new, p=0.5, training=self.training)\n",
        "\n",
        "            reversed_edge_index = edge_index[[1, 0]]\n",
        "            x_user_new = conv((x_item, x_user), reversed_edge_index)\n",
        "            x_user_new = F.relu(x_user_new)\n",
        "            x_user_new = F.dropout(x_user_new, p=0.5, training=self.training)\n",
        "\n",
        "            x_user, x_item = x_user_new, x_item_new\n",
        "        return x_user, x_item\n",
        "\n",
        "    def decode(self, user_embedding, item_embedding):\n",
        "        return (user_embedding * item_embedding).sum(dim=-1)\n",
        "\n",
        "    def forward(self, user_indices_batch, item_indices_pos_batch, item_indices_neg_batch,\n",
        "                all_user_features, all_item_features, graph_edge_index):\n",
        "\n",
        "        all_user_graph_indices = torch.arange(self.num_users, device=user_indices_batch.device)\n",
        "        all_item_graph_indices = torch.arange(self.num_items, device=user_indices_batch.device)\n",
        "\n",
        "        x_user_initial, x_item_initial = self.get_initial_embeddings(\n",
        "            all_user_graph_indices,\n",
        "            all_item_graph_indices,\n",
        "            all_user_features,\n",
        "            all_item_features\n",
        "        )\n",
        "\n",
        "        user_embs_final, item_embs_final = self.encode(x_user_initial, x_item_initial, graph_edge_index)\n",
        "\n",
        "        user_emb_batch = user_embs_final[user_indices_batch]\n",
        "        item_emb_pos_batch = item_embs_final[item_indices_pos_batch]\n",
        "        item_emb_neg_batch = item_embs_final[item_indices_neg_batch]\n",
        "\n",
        "        pos_score = self.decode(user_emb_batch, item_emb_pos_batch)\n",
        "        neg_score = self.decode(user_emb_batch, item_emb_neg_batch)\n",
        "\n",
        "        return pos_score, neg_score\n",
        "\n",
        "EMBEDDING_DIM = 32\n",
        "HIDDEN_CHANNELS = 64\n",
        "NUM_GNN_LAYERS = 2\n",
        "USE_NODE_FEATURES = True\n",
        "\n",
        "model_gnn = GNNRecommender(\n",
        "    num_users=num_users,\n",
        "    num_items=num_items,\n",
        "    embedding_dim=EMBEDDING_DIM,\n",
        "    user_feature_dim=user_features_tensor.shape[1],\n",
        "    item_feature_dim=item_features_tensor.shape[1],\n",
        "    hidden_channels=HIDDEN_CHANNELS,\n",
        "    num_layers=NUM_GNN_LAYERS,\n",
        "    use_features=USE_NODE_FEATURES\n",
        ")\n",
        "\n",
        "model_gnn = model_gnn.to(device)\n",
        "user_features_tensor = user_features_tensor.to(device)\n",
        "item_features_tensor = item_features_tensor.to(device)\n",
        "train_graph_edge_index = data_gnn.train_pos_edge_index.to(device)\n",
        "\n",
        "optimizer_gnn = optim.Adam(model_gnn.parameters(), lr=0.001)\n",
        "\n",
        "def bpr_loss(pos_scores, neg_scores):\n",
        "    return -torch.log(torch.sigmoid(pos_scores - neg_scores) + 1e-9).mean()\n",
        "\n",
        "def sample_negative_edges(positive_user_indices, num_items, num_negative_samples=1):\n",
        "    users = positive_user_indices\n",
        "    batch_size = len(users)\n",
        "    neg_items = []\n",
        "    for i in range(batch_size):\n",
        "        user = users[i].item()\n",
        "        for _ in range(num_negative_samples):\n",
        "            while True:\n",
        "                neg_item_candidate = np.random.randint(0, num_items)\n",
        "                if (user, neg_item_candidate) not in train_pos_pairs:\n",
        "                    neg_items.append(neg_item_candidate)\n",
        "                    break\n",
        "    return torch.tensor(neg_items, dtype=torch.long, device=users.device)"
      ]
    },
    {
      "cell_type": "markdown",
      "metadata": {},
      "source": [
        "## БЛОК 6: Обучение GNN модели\n"
      ]
    },
    {
      "cell_type": "code",
      "execution_count": null,
      "metadata": {},
      "outputs": [],
      "source": [
        "EPOCHS = 50\n",
        "BATCH_SIZE = 1024\n",
        "\n",
        "model_gnn.train()\n",
        "loss_history = []\n",
        "\n",
        "for epoch in range(EPOCHS):\n",
        "    total_loss = 0\n",
        "    perm = torch.randperm(data_gnn.train_pos_edge_index.size(1))\n",
        "    shuffled_train_pos_edge_index = data_gnn.train_pos_edge_index[:, perm]\n",
        "\n",
        "    for i in range(0, shuffled_train_pos_edge_index.size(1), BATCH_SIZE):\n",
        "        optimizer_gnn.zero_grad()\n",
        "        batch_pos_edge_index = shuffled_train_pos_edge_index[:, i:i+BATCH_SIZE].to(device)\n",
        "        batch_user_indices = batch_pos_edge_index[0]\n",
        "        batch_item_indices_pos = batch_pos_edge_index[1]\n",
        "\n",
        "        batch_item_indices_neg = sample_negative_edges(batch_user_indices, num_items, 1)\n",
        "\n",
        "        pos_scores, neg_scores = model_gnn(batch_user_indices,\n",
        "                                           batch_item_indices_pos,\n",
        "                                           batch_item_indices_neg,\n",
        "                                           user_features_tensor,\n",
        "                                           item_features_tensor,\n",
        "                                           train_graph_edge_index)\n",
        "        loss = bpr_loss(pos_scores, neg_scores)\n",
        "        loss.backward()\n",
        "        optimizer_gnn.step()\n",
        "        total_loss += loss.item() * batch_user_indices.size(0)\n",
        "\n",
        "    avg_loss = total_loss / data_gnn.train_pos_edge_index.size(1)\n",
        "    loss_history.append(avg_loss)\n",
        "    print(f\"Эпоха {epoch+1}/{EPOCHS}, Средняя BPR Loss: {avg_loss:.4f}\")\n",
        "\n",
        "plt.figure(figsize=(10, 6))\n",
        "plt.plot(loss_history, marker='o', linestyle='-', color='skyblue', label='BPR Loss')\n",
        "plt.title('Динамика BPR Loss во время обучения GNN')\n",
        "plt.xlabel('Эпоха')\n",
        "plt.ylabel('Средняя BPR Loss')\n",
        "plt.grid(True, linestyle='--', alpha=0.6)\n",
        "plt.legend()\n",
        "plt.savefig(os.path.join(OUTPUT_DIR_GNN, 'gnn_bpr_loss_history.png'))\n",
        "plt.show()"
      ]
    },
    {
      "cell_type": "markdown",
      "metadata": {},
      "source": [
        "## БЛОК 7: Оценка GNN модели"
      ]
    },
    {
      "cell_type": "code",
      "execution_count": null,
      "metadata": {},
      "outputs": [],
      "source": [
        "@torch.no_grad()\n",
        "def evaluate_gnn(model, test_pos_edge_index, train_pos_edge_index, all_user_features, all_item_features,\n",
        "             num_users, num_items, K=20):\n",
        "    model.eval()\n",
        "\n",
        "    all_user_graph_indices = torch.arange(num_users, device=device)\n",
        "    all_item_graph_indices = torch.arange(num_items, device=device)\n",
        "\n",
        "    x_user_initial, x_item_initial = model.get_initial_embeddings(\n",
        "        all_user_graph_indices,\n",
        "        all_item_graph_indices,\n",
        "        all_user_features,\n",
        "        all_item_features\n",
        "    )\n",
        "    user_embs_final, item_embs_final = model.encode(x_user_initial, x_item_initial, train_pos_edge_index)\n",
        "\n",
        "    recalls = []\n",
        "    precisions = []\n",
        "    ndcgs = []\n",
        "\n",
        "    test_user_items = defaultdict(list)\n",
        "    for i in range(test_pos_edge_index.shape[1]):\n",
        "        user = test_pos_edge_index[0, i].item()\n",
        "        item = test_pos_edge_index[1, i].item()\n",
        "        test_user_items[user].append(item)\n",
        "\n",
        "    train_user_items = defaultdict(list)\n",
        "    for i in range(train_pos_edge_index.shape[1]):\n",
        "        user = train_pos_edge_index[0, i].item()\n",
        "        item = train_pos_edge_index[1, i].item()\n",
        "        train_user_items[user].append(item)\n",
        "\n",
        "    test_users = sorted(list(test_user_items.keys()))\n",
        "\n",
        "    for user_idx in test_users:\n",
        "        user_emb = user_embs_final[user_idx].unsqueeze(0)\n",
        "        scores = model.decode(user_emb, item_embs_final).squeeze()\n",
        "\n",
        "        if user_idx in train_user_items:\n",
        "            seen_items = train_user_items[user_idx]\n",
        "            scores[seen_items] = -np.inf\n",
        "\n",
        "        top_k_scores, top_k_indices = torch.topk(scores, K)\n",
        "        recommended_items = top_k_indices.cpu().numpy()\n",
        "\n",
        "        true_items = test_user_items[user_idx]\n",
        "\n",
        "        hits = set(recommended_items) & set(true_items)\n",
        "\n",
        "        precision = len(hits) / K\n",
        "        precisions.append(precision)\n",
        "\n",
        "        recall = len(hits) / len(true_items) if len(true_items) > 0 else 0\n",
        "        recalls.append(recall)\n",
        "\n",
        "        relevance = np.zeros(K)\n",
        "        for i, item_id in enumerate(recommended_items):\n",
        "            if item_id in true_items:\n",
        "                relevance[i] = 1\n",
        "\n",
        "        dcg = np.sum(relevance / np.log2(np.arange(2, K + 2)))\n",
        "        num_true_relevant = min(K, len(true_items))\n",
        "        idcg_relevance = np.zeros(K)\n",
        "        idcg_relevance[:num_true_relevant] = 1\n",
        "        idcg = np.sum(idcg_relevance / np.log2(np.arange(2, K + 2)))\n",
        "\n",
        "        ndcg = dcg / idcg if idcg > 0 else 0\n",
        "        ndcgs.append(ndcg)\n",
        "\n",
        "    avg_recall = np.mean(recalls)\n",
        "    avg_precision = np.mean(precisions)\n",
        "    avg_ndcg = np.mean(ndcgs)\n",
        "\n",
        "    return avg_recall, avg_precision, avg_ndcg\n",
        "\n",
        "K_EVAL_GNN = 20\n",
        "recall_at_k_gnn, precision_at_k_gnn, ndcg_at_k_gnn = evaluate_gnn(\n",
        "    model_gnn,\n",
        "    test_pos_edge_index.to(device),\n",
        "    data_gnn.train_pos_edge_index.to(device),\n",
        "    user_features_tensor,\n",
        "    item_features_tensor,\n",
        "    num_users,\n",
        "    num_items,\n",
        "    K=K_EVAL_GNN\n",
        ")\n",
        "\n",
        "print(f\"Результаты оценки GNN на тестовой выборке (K={K_EVAL_GNN}):\")\n",
        "print(f\"  Recall@{K_EVAL_GNN}: {recall_at_k_gnn:.4f}\")\n",
        "print(f\"  Precision@{K_EVAL_GNN}: {precision_at_k_gnn:.4f}\")\n",
        "print(f\"  NDCG@{K_EVAL_GNN}: {ndcg_at_k_gnn:.4f}\")\n",
        "\n",
        "gnn_eval_metrics = {\n",
        "    f'recall_at_{K_EVAL_GNN}': recall_at_k_gnn,\n",
        "    f'precision_at_{K_EVAL_GNN}': precision_at_k_gnn,\n",
        "    f'ndcg_at_{K_EVAL_GNN}': ndcg_at_k_gnn\n",
        "}\n",
        "\n",
        "metrics_df_gnn = pd.DataFrame({\n",
        "    'Метрика': [f'Recall@{K_EVAL_GNN}', f'Precision@{K_EVAL_GNN}', f'NDCG@{K_EVAL_GNN}'],\n",
        "    'Значение': [recall_at_k_gnn, precision_at_k_gnn, ndcg_at_k_gnn]\n",
        "})\n",
        "\n",
        "plt.figure(figsize=(10, 6))\n",
        "sns.barplot(x='Метрика', y='Значение', data=metrics_df_gnn, palette='rocket')\n",
        "plt.title(f'Метрики GNN-модели на тестовой выборке (K={K_EVAL_GNN})')\n",
        "plt.ylabel('Значение')\n",
        "plt.ylim(0.0, 0.5)\n",
        "plt.grid(axis='y', linestyle='--')\n",
        "plt.savefig(os.path.join(OUTPUT_DIR_GNN, 'gnn_evaluation_metrics.png'))\n",
        "plt.show()"
      ]
    },
    {
      "cell_type": "markdown",
      "metadata": {},
      "source": [
        "## БЛОК 8: Сохранение GNN артефактов для Streamlit"
      ]
    },
    {
      "cell_type": "code",
      "execution_count": null,
      "metadata": {},
      "outputs": [],
      "source": [
        "with open(os.path.join(OUTPUT_DIR_GNN, 'gnn_model.pkl'), 'wb') as f:\n",
        "    pickle.dump(model_gnn, f)\n",
        "\n",
        "with open(os.path.join(OUTPUT_DIR_GNN, 'gnn_user_features.pkl'), 'wb') as f:\n",
        "    pickle.dump(user_features_tensor.cpu(), f)\n",
        "\n",
        "with open(os.path.join(OUTPUT_DIR_GNN, 'gnn_item_features.pkl'), 'wb') as f:\n",
        "    pickle.dump(item_features_tensor.cpu(), f)\n",
        "\n",
        "with open(os.path.join(OUTPUT_DIR_GNN, 'gnn_train_edge_index.pkl'), 'wb') as f:\n",
        "    pickle.dump(data_gnn.train_pos_edge_index.cpu(), f)\n",
        "\n",
        "with open(os.path.join(OUTPUT_DIR_GNN, 'gnn_user_encoder.pkl'), 'wb') as f:\n",
        "    pickle.dump(user_encoder, f)\n",
        "\n",
        "with open(os.path.join(OUTPUT_DIR_GNN, 'gnn_item_encoder.pkl'), 'wb') as f:\n",
        "    pickle.dump(item_encoder, f)\n",
        "\n",
        "with open(os.path.join(OUTPUT_DIR_GNN, 'gnn_evaluation_metrics.pkl'), 'wb') as f:\n",
        "    pickle.dump(gnn_eval_metrics, f)\n",
        "\n",
        "items_df.to_pickle(os.path.join(OUTPUT_DIR_GNN, 'gnn_items_df.pkl'))\n",
        "ratings_df.to_pickle(os.path.join(OUTPUT_DIR_GNN, 'gnn_ratings_df.pkl'))\n",
        "\n",
        "print(f\"Все необходимые артефакты GNN сохранены в папку: {OUTPUT_DIR_GNN}\")\n",
        "for item in os.listdir(OUTPUT_DIR_GNN):\n",
        "    print(f\"- {item}\")"
      ]
    }
  ],
  "metadata": {
    "accelerator": "GPU",
    "colab": {
      "gpuType": "T4",
      "provenance": []
    },
    "kernelspec": {
      "display_name": "Python 3",
      "name": "python3"
    },
    "language_info": {
      "codemirror_mode": {
        "name": "ipython",
        "version": 3
      },
      "file_extension": ".py",
      "mimetype": "text/x-python",
      "name": "python",
      "nbconvert_exporter": "python",
      "pygments_lexer": "ipython3",
      "version": "3.12.2"
    }
  },
  "nbformat": 4,
  "nbformat_minor": 0
}
